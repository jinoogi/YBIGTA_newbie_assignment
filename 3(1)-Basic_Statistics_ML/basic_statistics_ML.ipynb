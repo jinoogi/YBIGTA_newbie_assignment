{
 "cells": [
  {
   "cell_type": "markdown",
   "id": "2b45bb44",
   "metadata": {},
   "source": [
    "<h1>1. Iris 데이터셋을 활용해 클래스별 변수 평균 차이를 검정"
   ]
  },
  {
   "cell_type": "markdown",
   "id": "7ed9ab8c",
   "metadata": {},
   "source": [
    "<h4>1. Iris 로드<h1>"
   ]
  },
  {
   "cell_type": "code",
   "execution_count": 2,
   "id": "390d0fcc",
   "metadata": {},
   "outputs": [
    {
     "name": "stdout",
     "output_type": "stream",
     "text": [
      "   sepal_length  sepal_width  petal_length  petal_width species\n",
      "0           5.1          3.5           1.4          0.2  setosa\n",
      "1           4.9          3.0           1.4          0.2  setosa\n",
      "2           4.7          3.2           1.3          0.2  setosa\n",
      "3           4.6          3.1           1.5          0.2  setosa\n",
      "4           5.0          3.6           1.4          0.2  setosa\n",
      "<class 'pandas.core.frame.DataFrame'>\n",
      "RangeIndex: 150 entries, 0 to 149\n",
      "Data columns (total 5 columns):\n",
      " #   Column        Non-Null Count  Dtype  \n",
      "---  ------        --------------  -----  \n",
      " 0   sepal_length  150 non-null    float64\n",
      " 1   sepal_width   150 non-null    float64\n",
      " 2   petal_length  150 non-null    float64\n",
      " 3   petal_width   150 non-null    float64\n",
      " 4   species       150 non-null    object \n",
      "dtypes: float64(4), object(1)\n",
      "memory usage: 6.0+ KB\n",
      "None\n"
     ]
    }
   ],
   "source": [
    "import seaborn as sns\n",
    "\n",
    "# iris 데이터셋 불러오기\n",
    "iris = sns.load_dataset('iris')\n",
    "\n",
    "# 데이터 상위 5개 행 확인\n",
    "print(iris.head())\n",
    "\n",
    "# 데이터 구조(컬럼, 결측치, 타입 등) 확인\n",
    "print(iris.info())"
   ]
  },
  {
   "cell_type": "markdown",
   "id": "ce461cd3",
   "metadata": {},
   "source": [
    "<h4>2. 기술통계량 산출</h2>"
   ]
  },
  {
   "cell_type": "code",
   "execution_count": 3,
   "id": "8e34ed5e",
   "metadata": {},
   "outputs": [
    {
     "name": "stdout",
     "output_type": "stream",
     "text": [
      "            count   mean       std  min  25%   50%    75%  max\n",
      "species                                                       \n",
      "setosa       50.0  1.462  0.173664  1.0  1.4  1.50  1.575  1.9\n",
      "versicolor   50.0  4.260  0.469911  3.0  4.0  4.35  4.600  5.1\n",
      "virginica    50.0  5.552  0.551895  4.5  5.1  5.55  5.875  6.9\n",
      "\n",
      "Species별 데이터 개수:\n",
      "species\n",
      "setosa        50\n",
      "versicolor    50\n",
      "virginica     50\n",
      "Name: count, dtype: int64\n"
     ]
    }
   ],
   "source": [
    "# Species별 Petal Length의 기술통계량 산출\n",
    "desc = iris.groupby('species')['petal_length'].describe()\n",
    "print(desc)\n",
    "\n",
    "# Species별 데이터 개수 확인\n",
    "count = iris['species'].value_counts()\n",
    "print(\"\\nSpecies별 데이터 개수:\")\n",
    "print(count)"
   ]
  },
  {
   "cell_type": "markdown",
   "id": "cee4bf27",
   "metadata": {},
   "source": [
    "<h4>3. 시각화</h2>"
   ]
  },
  {
   "cell_type": "code",
   "execution_count": 4,
   "id": "f84e6e4b",
   "metadata": {},
   "outputs": [
    {
     "name": "stderr",
     "output_type": "stream",
     "text": [
      "/Users/jeong-jinwook/ybigta/session3/venv/lib/python3.11/site-packages/IPython/core/pylabtools.py:170: UserWarning: Glyph 48324 (\\N{HANGUL SYLLABLE BYEOL}) missing from font(s) DejaVu Sans.\n",
      "  fig.canvas.print_figure(bytes_io, **kw)\n",
      "/Users/jeong-jinwook/ybigta/session3/venv/lib/python3.11/site-packages/IPython/core/pylabtools.py:170: UserWarning: Glyph 48516 (\\N{HANGUL SYLLABLE BUN}) missing from font(s) DejaVu Sans.\n",
      "  fig.canvas.print_figure(bytes_io, **kw)\n",
      "/Users/jeong-jinwook/ybigta/session3/venv/lib/python3.11/site-packages/IPython/core/pylabtools.py:170: UserWarning: Glyph 54252 (\\N{HANGUL SYLLABLE PO}) missing from font(s) DejaVu Sans.\n",
      "  fig.canvas.print_figure(bytes_io, **kw)\n"
     ]
    },
    {
     "data": {
      "image/png": "[encoded data removed]",
      "text/plain": [
       "<Figure size 800x500 with 1 Axes>"
      ]
     },
     "metadata": {},
     "output_type": "display_data"
    }
   ],
   "source": [
    "import matplotlib.pyplot as plt\n",
    "# Boxplot 시각화\n",
    "plt.figure(figsize=(8, 5))\n",
    "sns.boxplot(x='species', y='petal_length', data=iris)\n",
    "plt.title('Species별 Petal Length 분포(Boxplot)')\n",
    "plt.xlabel('Species')\n",
    "plt.ylabel('Petal Length')\n",
    "plt.show()"
   ]
  },
  {
   "cell_type": "markdown",
   "id": "9b9e85eb",
   "metadata": {},
   "source": [
    "virginica 그룹이 평균이 높음"
   ]
  },
  {
   "cell_type": "markdown",
   "id": "862ebf36",
   "metadata": {},
   "source": [
    "<h4>4. 정규성 검정</h2>"
   ]
  },
  {
   "cell_type": "code",
   "execution_count": 5,
   "id": "80f6dd73",
   "metadata": {},
   "outputs": [
    {
     "name": "stdout",
     "output_type": "stream",
     "text": [
      "Shapiro-Wilk 정규성 검정 결과 (Species별 Petal Length)\n",
      "귀무가설: 데이터는 정규분포를 따른다.\n",
      "대립가설: 데이터는 정규분포를 따르지 않는다.\n",
      "\n",
      "setosa: p-value = 0.0548 -> 정규성 가정 만족 (귀무가설 채택)\n",
      "versicolor: p-value = 0.1585 -> 정규성 가정 만족 (귀무가설 채택)\n",
      "virginica: p-value = 0.1098 -> 정규성 가정 만족 (귀무가설 채택)\n"
     ]
    }
   ],
   "source": [
    "from scipy.stats import shapiro\n",
    "\n",
    "print(\"Shapiro-Wilk 정규성 검정 결과 (Species별 Petal Length)\")\n",
    "print(\"귀무가설: 데이터는 정규분포를 따른다.\")\n",
    "print(\"대립가설: 데이터는 정규분포를 따르지 않는다.\\n\")\n",
    "\n",
    "for species in iris['species'].unique():\n",
    "    data = iris[iris['species'] == species]['petal_length']\n",
    "    stat, p = shapiro(data)\n",
    "    print(f\"{species}: p-value = {p:.4f} -> \", end=\"\")\n",
    "    if p > 0.05:\n",
    "        print(\"정규성 가정 만족 (귀무가설 채택)\")\n",
    "    else:\n",
    "        print(\"정규성 가정 불만족 (귀무가설 기각)\")"
   ]
  },
  {
   "cell_type": "markdown",
   "id": "da8645ad",
   "metadata": {},
   "source": [
    "<h4>5. 등분산성 검정</h2>"
   ]
  },
  {
   "cell_type": "code",
   "execution_count": 16,
   "id": "4891a690",
   "metadata": {},
   "outputs": [
    {
     "name": "stdout",
     "output_type": "stream",
     "text": [
      "Levene 등분산성 검정 결과 (Species별 Petal Length)\n",
      "귀무가설: 세 그룹의 분산은 모두 같다.\n",
      "대립가설: 적어도 한 그룹의 분산이 다르다.\n",
      "\n",
      "p-value = 0.0000 -> 등분산성 가정 불만족 (귀무가설 기각)\n"
     ]
    }
   ],
   "source": [
    "from scipy.stats import levene\n",
    "# 각 그룹의 petal_length 데이터 추출\n",
    "setosa = iris[iris['species'] == 'setosa']['petal_length']\n",
    "versicolor = iris[iris['species'] == 'versicolor']['petal_length']\n",
    "virginica = iris[iris['species'] == 'virginica']['petal_length']\n",
    "\n",
    "# Levene 등분산성 검정\n",
    "print(\"Levene 등분산성 검정 결과 (Species별 Petal Length)\")\n",
    "print(\"귀무가설: 세 그룹의 분산은 모두 같다.\")\n",
    "print(\"대립가설: 적어도 한 그룹의 분산이 다르다.\\n\")\n",
    "\n",
    "stat, p = levene(setosa, versicolor, virginica)\n",
    "print(f\"p-value = {p:.4f} -> \", end=\"\")\n",
    "if p > 0.05:\n",
    "    print(\"등분산성 가정 만족 (귀무가설 채택)\")\n",
    "else:\n",
    "    print(\"등분산성 가정 불만족 (귀무가설 기각)\")"
   ]
  },
  {
   "cell_type": "markdown",
   "id": "6dee8958",
   "metadata": {},
   "source": [
    "<h4>6. 가설 수립</h2>"
   ]
  },
  {
   "cell_type": "markdown",
   "id": "243cbe4c",
   "metadata": {},
   "source": [
    "귀무가설(H₀):\n",
    "3개 Species(품종) 간 Petal Length(꽃잎 길이)의 평균은 모두 같다. <br>\n",
    "대립가설(H₁):\n",
    "적어도 한 개 이상의 Species(품종)에서 Petal Length(꽃잎 길이)의 평균이 다르다."
   ]
  },
  {
   "cell_type": "markdown",
   "id": "fc8ac176",
   "metadata": {},
   "source": [
    "<h4>7. ANOVA 실행</h2>"
   ]
  },
  {
   "cell_type": "code",
   "execution_count": 7,
   "id": "5185737d",
   "metadata": {},
   "outputs": [
    {
     "name": "stdout",
     "output_type": "stream",
     "text": [
      "One-way ANOVA 결과 (Species별 Petal Length)\n",
      "F값: 1180.1612\n",
      "p-value: 0.0000\n",
      "p-value < 0.05 이므로 귀무가설 기각 → 세 그룹의 평균이 적어도 하나는 다르다.\n"
     ]
    }
   ],
   "source": [
    "from scipy.stats import f_oneway\n",
    "\n",
    "# 각 그룹의 petal_length 데이터 추출\n",
    "setosa = iris[iris['species'] == 'setosa']['petal_length']\n",
    "versicolor = iris[iris['species'] == 'versicolor']['petal_length']\n",
    "virginica = iris[iris['species'] == 'virginica']['petal_length']\n",
    "\n",
    "# One-way ANOVA 실행\n",
    "f_stat, p_value = f_oneway(setosa, versicolor, virginica)\n",
    "\n",
    "print(\"One-way ANOVA 결과 (Species별 Petal Length)\")\n",
    "print(f\"F값: {f_stat:.4f}\")\n",
    "print(f\"p-value: {p_value:.4f}\")\n",
    "\n",
    "if p_value < 0.05:\n",
    "    print(\"p-value < 0.05 이므로 귀무가설 기각 → 세 그룹의 평균이 적어도 하나는 다르다.\")\n",
    "else:\n",
    "    print(\"p-value >= 0.05 이므로 귀무가설 채택 → 세 그룹의 평균이 모두 같다.\")"
   ]
  },
  {
   "cell_type": "markdown",
   "id": "ed0a079e",
   "metadata": {},
   "source": [
    "<h4>8. 사후검정</h2>"
   ]
  },
  {
   "cell_type": "code",
   "execution_count": 8,
   "id": "f0ebbb8f",
   "metadata": {},
   "outputs": [
    {
     "name": "stdout",
     "output_type": "stream",
     "text": [
      "   Multiple Comparison of Means - Tukey HSD, FWER=0.05   \n",
      "=========================================================\n",
      "  group1     group2   meandiff p-adj lower  upper  reject\n",
      "---------------------------------------------------------\n",
      "    setosa versicolor    2.798   0.0 2.5942 3.0018   True\n",
      "    setosa  virginica     4.09   0.0 3.8862 4.2938   True\n",
      "versicolor  virginica    1.292   0.0 1.0882 1.4958   True\n",
      "---------------------------------------------------------\n"
     ]
    }
   ],
   "source": [
    "from statsmodels.stats.multicomp import pairwise_tukeyhsd\n",
    "# Tukey HSD 사후검정 실행\n",
    "tukey = pairwise_tukeyhsd(endog=iris['petal_length'], groups=iris['species'], alpha=0.05)\n",
    "\n",
    "print(tukey)"
   ]
  },
  {
   "cell_type": "markdown",
   "id": "cb01cd58",
   "metadata": {},
   "source": [
    "setosa-versicolor, setosa-virginica, versicolor-virginica 사이에 유의미한 차이가 있다"
   ]
  },
  {
   "cell_type": "markdown",
   "id": "d394fb81",
   "metadata": {},
   "source": [
    "<h4>9. 결과 요약</h4>"
   ]
  },
  {
   "cell_type": "markdown",
   "id": "0265ef89",
   "metadata": {},
   "source": [
    "Boxplot과 기술통계량을 보면 virginica 그룹의 Petal Length(꽃잎 길이) 평균이 가장 길고, 그 다음이 versicolor, setosa가 가장 짧음.<br>\n",
    "ANOVA 분석 결과 세 그룹 간 Petal Length의 평균에 유의미한 차이가 있음이 확인됨 (p-value < 0.05, 귀무가설 기각). <br>\n",
    "Tukey HSD 사후검정 결과, 모든 그룹 쌍(setosa–versicolor, setosa–virginica, versicolor–virginica)에서 <br>\n",
    "평균의 차이가 통계적으로 유의미함이 확인됨"
   ]
  },
  {
   "cell_type": "markdown",
   "id": "d6413204",
   "metadata": {},
   "source": [
    "<h1>2. 실제 신용카드 사기 데이터셋을 활용해 클래스 불균형 상황에서 분류 모델을 학습"
   ]
  },
  {
   "cell_type": "markdown",
   "id": "9f8ce553",
   "metadata": {},
   "source": [
    "<h4>1. 데이터 로드 및 기본탐색"
   ]
  },
  {
   "cell_type": "code",
   "execution_count": 9,
   "id": "1df74055",
   "metadata": {},
   "outputs": [
    {
     "name": "stdout",
     "output_type": "stream",
     "text": [
      "   Time        V1        V2        V3        V4        V5        V6        V7  \\\n",
      "0   0.0 -1.359807 -0.072781  2.536347  1.378155 -0.338321  0.462388  0.239599   \n",
      "1   0.0  1.191857  0.266151  0.166480  0.448154  0.060018 -0.082361 -0.078803   \n",
      "2   1.0 -1.358354 -1.340163  1.773209  0.379780 -0.503198  1.800499  0.791461   \n",
      "3   1.0 -0.966272 -0.185226  1.792993 -0.863291 -0.010309  1.247203  0.237609   \n",
      "4   2.0 -1.158233  0.877737  1.548718  0.403034 -0.407193  0.095921  0.592941   \n",
      "\n",
      "         V8        V9  ...       V21       V22       V23       V24       V25  \\\n",
      "0  0.098698  0.363787  ... -0.018307  0.277838 -0.110474  0.066928  0.128539   \n",
      "1  0.085102 -0.255425  ... -0.225775 -0.638672  0.101288 -0.339846  0.167170   \n",
      "2  0.247676 -1.514654  ...  0.247998  0.771679  0.909412 -0.689281 -0.327642   \n",
      "3  0.377436 -1.387024  ... -0.108300  0.005274 -0.190321 -1.175575  0.647376   \n",
      "4 -0.270533  0.817739  ... -0.009431  0.798278 -0.137458  0.141267 -0.206010   \n",
      "\n",
      "        V26       V27       V28  Amount  Class  \n",
      "0 -0.189115  0.133558 -0.021053  149.62      0  \n",
      "1  0.125895 -0.008983  0.014724    2.69      0  \n",
      "2 -0.139097 -0.055353 -0.059752  378.66      0  \n",
      "3 -0.221929  0.062723  0.061458  123.50      0  \n",
      "4  0.502292  0.219422  0.215153   69.99      0  \n",
      "\n",
      "[5 rows x 31 columns]\n",
      "<class 'pandas.core.frame.DataFrame'>\n",
      "RangeIndex: 284807 entries, 0 to 284806\n",
      "Data columns (total 31 columns):\n",
      " #   Column  Non-Null Count   Dtype  \n",
      "---  ------  --------------   -----  \n",
      " 0   Time    284807 non-null  float64\n",
      " 1   V1      284807 non-null  float64\n",
      " 2   V2      284807 non-null  float64\n",
      " 3   V3      284807 non-null  float64\n",
      " 4   V4      284807 non-null  float64\n",
      " 5   V5      284807 non-null  float64\n",
      " 6   V6      284807 non-null  float64\n",
      " 7   V7      284807 non-null  float64\n",
      " 8   V8      284807 non-null  float64\n",
      " 9   V9      284807 non-null  float64\n",
      " 10  V10     284807 non-null  float64\n",
      " 11  V11     284807 non-null  float64\n",
      " 12  V12     284807 non-null  float64\n",
      " 13  V13     284807 non-null  float64\n",
      " 14  V14     284807 non-null  float64\n",
      " 15  V15     284807 non-null  float64\n",
      " 16  V16     284807 non-null  float64\n",
      " 17  V17     284807 non-null  float64\n",
      " 18  V18     284807 non-null  float64\n",
      " 19  V19     284807 non-null  float64\n",
      " 20  V20     284807 non-null  float64\n",
      " 21  V21     284807 non-null  float64\n",
      " 22  V22     284807 non-null  float64\n",
      " 23  V23     284807 non-null  float64\n",
      " 24  V24     284807 non-null  float64\n",
      " 25  V25     284807 non-null  float64\n",
      " 26  V26     284807 non-null  float64\n",
      " 27  V27     284807 non-null  float64\n",
      " 28  V28     284807 non-null  float64\n",
      " 29  Amount  284807 non-null  float64\n",
      " 30  Class   284807 non-null  int64  \n",
      "dtypes: float64(30), int64(1)\n",
      "memory usage: 67.4 MB\n",
      "None\n",
      "                Time            V1            V2            V3            V4  \\\n",
      "count  284807.000000  2.848070e+05  2.848070e+05  2.848070e+05  2.848070e+05   \n",
      "mean    94813.859575  1.175161e-15  3.384974e-16 -1.379537e-15  2.094852e-15   \n",
      "std     47488.145955  1.958696e+00  1.651309e+00  1.516255e+00  1.415869e+00   \n",
      "min         0.000000 -5.640751e+01 -7.271573e+01 -4.832559e+01 -5.683171e+00   \n",
      "25%     54201.500000 -9.203734e-01 -5.985499e-01 -8.903648e-01 -8.486401e-01   \n",
      "50%     84692.000000  1.810880e-02  6.548556e-02  1.798463e-01 -1.984653e-02   \n",
      "75%    139320.500000  1.315642e+00  8.037239e-01  1.027196e+00  7.433413e-01   \n",
      "max    172792.000000  2.454930e+00  2.205773e+01  9.382558e+00  1.687534e+01   \n",
      "\n",
      "                 V5            V6            V7            V8            V9  \\\n",
      "count  2.848070e+05  2.848070e+05  2.848070e+05  2.848070e+05  2.848070e+05   \n",
      "mean   1.021879e-15  1.494498e-15 -5.620335e-16  1.149614e-16 -2.414189e-15   \n",
      "std    1.380247e+00  1.332271e+00  1.237094e+00  1.194353e+00  1.098632e+00   \n",
      "min   -1.137433e+02 -2.616051e+01 -4.355724e+01 -7.321672e+01 -1.343407e+01   \n",
      "25%   -6.915971e-01 -7.682956e-01 -5.540759e-01 -2.086297e-01 -6.430976e-01   \n",
      "50%   -5.433583e-02 -2.741871e-01  4.010308e-02  2.235804e-02 -5.142873e-02   \n",
      "75%    6.119264e-01  3.985649e-01  5.704361e-01  3.273459e-01  5.971390e-01   \n",
      "max    3.480167e+01  7.330163e+01  1.205895e+02  2.000721e+01  1.559499e+01   \n",
      "\n",
      "       ...           V21           V22           V23           V24  \\\n",
      "count  ...  2.848070e+05  2.848070e+05  2.848070e+05  2.848070e+05   \n",
      "mean   ...  1.628620e-16 -3.576577e-16  2.618565e-16  4.473914e-15   \n",
      "std    ...  7.345240e-01  7.257016e-01  6.244603e-01  6.056471e-01   \n",
      "min    ... -3.483038e+01 -1.093314e+01 -4.480774e+01 -2.836627e+00   \n",
      "25%    ... -2.283949e-01 -5.423504e-01 -1.618463e-01 -3.545861e-01   \n",
      "50%    ... -2.945017e-02  6.781943e-03 -1.119293e-02  4.097606e-02   \n",
      "75%    ...  1.863772e-01  5.285536e-01  1.476421e-01  4.395266e-01   \n",
      "max    ...  2.720284e+01  1.050309e+01  2.252841e+01  4.584549e+00   \n",
      "\n",
      "                V25           V26           V27           V28         Amount  \\\n",
      "count  2.848070e+05  2.848070e+05  2.848070e+05  2.848070e+05  284807.000000   \n",
      "mean   5.109395e-16  1.686100e-15 -3.661401e-16 -1.227452e-16      88.349619   \n",
      "std    5.212781e-01  4.822270e-01  4.036325e-01  3.300833e-01     250.120109   \n",
      "min   -1.029540e+01 -2.604551e+00 -2.256568e+01 -1.543008e+01       0.000000   \n",
      "25%   -3.171451e-01 -3.269839e-01 -7.083953e-02 -5.295979e-02       5.600000   \n",
      "50%    1.659350e-02 -5.213911e-02  1.342146e-03  1.124383e-02      22.000000   \n",
      "75%    3.507156e-01  2.409522e-01  9.104512e-02  7.827995e-02      77.165000   \n",
      "max    7.519589e+00  3.517346e+00  3.161220e+01  3.384781e+01   25691.160000   \n",
      "\n",
      "               Class  \n",
      "count  284807.000000  \n",
      "mean        0.001727  \n",
      "std         0.041527  \n",
      "min         0.000000  \n",
      "25%         0.000000  \n",
      "50%         0.000000  \n",
      "75%         0.000000  \n",
      "max         1.000000  \n",
      "\n",
      "[8 rows x 31 columns]\n",
      "\n",
      "Class 비율:\n",
      "Class\n",
      "0    0.998273\n",
      "1    0.001727\n",
      "Name: proportion, dtype: float64\n",
      "\n",
      "Class별 건수:\n",
      "Class\n",
      "0    284315\n",
      "1       492\n",
      "Name: count, dtype: int64\n",
      "\n",
      "정상 거래 건수: 284315\n",
      "사기 거래 건수: 492\n"
     ]
    }
   ],
   "source": [
    "import pandas as pd\n",
    "\n",
    "# 데이터 불러오기\n",
    "df = pd.read_csv('creditcard.csv')\n",
    "\n",
    "# 데이터 상위 5개 행 확인\n",
    "print(df.head())\n",
    "\n",
    "# 데이터 구조(컬럼, 결측치, 타입 등) 확인\n",
    "print(df.info())\n",
    "\n",
    "# 기술통계량 확인\n",
    "print(df.describe())\n",
    "\n",
    "# Class 비율(정상/사기 거래 비율) 확인\n",
    "print(\"\\nClass 비율:\")\n",
    "print(df['Class'].value_counts(normalize=True))  # 비율\n",
    "print(\"\\nClass별 건수:\")\n",
    "print(df['Class'].value_counts())  # 건수\n",
    "\n",
    "# 정상 거래와 사기 거래 건수 각각 출력\n",
    "normal_count = df['Class'].value_counts()[0]\n",
    "fraud_count = df['Class'].value_counts()[1]\n",
    "print(f\"\\n정상 거래 건수: {normal_count}\")\n",
    "print(f\"사기 거래 건수: {fraud_count}\")"
   ]
  },
  {
   "cell_type": "markdown",
   "id": "6048496f",
   "metadata": {},
   "source": [
    "<h4>2. 샘플링"
   ]
  },
  {
   "cell_type": "code",
   "execution_count": 10,
   "id": "ced9f847",
   "metadata": {},
   "outputs": [
    {
     "name": "stdout",
     "output_type": "stream",
     "text": [
      "샘플링 후 Class 비율:\n",
      "Class\n",
      "0    0.953107\n",
      "1    0.046893\n",
      "Name: proportion, dtype: float64\n",
      "\n",
      "샘플링 후 Class별 건수:\n",
      "Class\n",
      "0    10000\n",
      "1      492\n",
      "Name: count, dtype: int64\n"
     ]
    }
   ],
   "source": [
    "# 사기 거래(Class=1)는 모두 유지\n",
    "fraud = df[df['Class'] == 1]\n",
    "\n",
    "# 정상 거래(Class=0)는 10,000건만 무작위 샘플링 (random_state=42)\n",
    "normal = df[df['Class'] == 0].sample(n=10000, random_state=42)\n",
    "\n",
    "# 두 데이터셋 합치기\n",
    "sampled_df = pd.concat([fraud, normal], ignore_index=True)\n",
    "\n",
    "# 샘플링 후 Class 비율 출력\n",
    "print(\"샘플링 후 Class 비율:\")\n",
    "print(sampled_df['Class'].value_counts(normalize=True))\n",
    "print(\"\\n샘플링 후 Class별 건수:\")\n",
    "print(sampled_df['Class'].value_counts())"
   ]
  },
  {
   "cell_type": "markdown",
   "id": "4ac5c527",
   "metadata": {},
   "source": [
    "<h4>3. 데이터 전처리"
   ]
  },
  {
   "cell_type": "code",
   "execution_count": 11,
   "id": "a593d015",
   "metadata": {},
   "outputs": [
    {
     "name": "stdout",
     "output_type": "stream",
     "text": [
      "     Time        V1        V2        V3        V4        V5        V6  \\\n",
      "0   406.0 -2.312227  1.951992 -1.609851  3.997906 -0.522188 -1.426545   \n",
      "1   472.0 -3.043541 -3.157307  1.088463  2.288644  1.359805 -1.064823   \n",
      "2  4462.0 -2.303350  1.759247 -0.359745  2.330243 -0.821628 -0.075788   \n",
      "3  6986.0 -4.397974  1.358367 -2.592844  2.679787 -1.128131 -1.706536   \n",
      "4  7519.0  1.234235  3.019740 -4.304597  4.732795  3.624201 -1.357746   \n",
      "\n",
      "         V7        V8        V9  ...       V20       V21       V22       V23  \\\n",
      "0 -2.537387  1.391657 -2.770089  ...  0.126911  0.517232 -0.035049 -0.465211   \n",
      "1  0.325574 -0.067794 -0.270953  ...  2.102339  0.661696  0.435477  1.375966   \n",
      "2  0.562320 -0.399147 -0.238253  ... -0.430022 -0.294166 -0.932391  0.172726   \n",
      "3 -3.496197 -0.248778 -0.247768  ... -0.171608  0.573574  0.176968 -0.436207   \n",
      "4  1.713445 -0.496358 -1.282858  ...  0.009061 -0.379068 -0.704181 -0.656805   \n",
      "\n",
      "        V24       V25       V26       V27       V28  Amount_Scaled  \n",
      "0  0.320198  0.044519  0.177840  0.261145 -0.143276      -0.394650  \n",
      "1 -0.293803  0.279798 -0.145362 -0.252773  0.035764       1.976514  \n",
      "2 -0.087330 -0.156114 -0.542628  0.039566 -0.153029       0.680800  \n",
      "3 -0.053502  0.252405 -0.657488 -0.827136  0.849573      -0.130191  \n",
      "4 -1.632653  1.488901  0.566797 -0.010016  0.146793      -0.390168  \n",
      "\n",
      "[5 rows x 30 columns]\n",
      "Class\n",
      "0    10000\n",
      "1      492\n",
      "Name: count, dtype: int64\n"
     ]
    }
   ],
   "source": [
    "from sklearn.preprocessing import StandardScaler\n",
    "\n",
    "# Amount 변수 표준화\n",
    "scaler = StandardScaler()\n",
    "sampled_df['Amount_Scaled'] = scaler.fit_transform(sampled_df[['Amount']])\n",
    "\n",
    "# Amount 원본 변수 제거\n",
    "sampled_df = sampled_df.drop(columns=['Amount'])\n",
    "\n",
    "# X, y로 분리\n",
    "X = sampled_df.drop(columns=['Class'])\n",
    "y = sampled_df['Class']\n",
    "\n",
    "# 결과 확인\n",
    "print(X.head())\n",
    "print(y.value_counts())"
   ]
  },
  {
   "cell_type": "markdown",
   "id": "3faf4616",
   "metadata": {},
   "source": [
    "<h4> 4. 학습데이터와 테스트데이터 분할"
   ]
  },
  {
   "cell_type": "code",
   "execution_count": 12,
   "id": "714e8a2a",
   "metadata": {},
   "outputs": [
    {
     "name": "stdout",
     "output_type": "stream",
     "text": [
      "학습 데이터 Class 비율:\n",
      "Class\n",
      "0    0.953056\n",
      "1    0.046944\n",
      "Name: proportion, dtype: float64\n",
      "\n",
      "테스트 데이터 Class 비율:\n",
      "Class\n",
      "0    0.953311\n",
      "1    0.046689\n",
      "Name: proportion, dtype: float64\n"
     ]
    }
   ],
   "source": [
    "from sklearn.model_selection import train_test_split\n",
    "\n",
    "# 학습셋:테스트셋 8:2로 분할, 클래스 비율 유지(stratify), random_state=42\n",
    "X_train, X_test, y_train, y_test = train_test_split(\n",
    "    X, y, test_size=0.2, stratify=y, random_state=42\n",
    ")\n",
    "\n",
    "# 분할된 데이터의 Class 비율 출력\n",
    "print(\"학습 데이터 Class 비율:\")\n",
    "print(y_train.value_counts(normalize=True))\n",
    "print(\"\\n테스트 데이터 Class 비율:\")\n",
    "print(y_test.value_counts(normalize=True))"
   ]
  },
  {
   "cell_type": "markdown",
   "id": "f22e7f1e",
   "metadata": {},
   "source": [
    "<h4>5. SMOTE 적용"
   ]
  },
  {
   "cell_type": "code",
   "execution_count": 13,
   "id": "adc0719f",
   "metadata": {},
   "outputs": [
    {
     "name": "stdout",
     "output_type": "stream",
     "text": [
      "SMOTE 적용 전 사기 거래 건수: 394\n",
      "SMOTE 적용 후 사기 거래 건수: 7999\n"
     ]
    }
   ],
   "source": [
    "from imblearn.over_sampling import SMOTE\n",
    "\n",
    "# SMOTE 객체 생성\n",
    "smote = SMOTE(random_state=42)\n",
    "\n",
    "# 학습 데이터에 SMOTE 적용 (X_train, y_train)\n",
    "X_train_smote, y_train_smote = smote.fit_resample(X_train, y_train)\n",
    "\n",
    "# 적용 전 사기 거래 건수\n",
    "print(\"SMOTE 적용 전 사기 거래 건수:\", y_train.value_counts()[1])\n",
    "\n",
    "# 적용 후 사기 거래 건수\n",
    "print(\"SMOTE 적용 후 사기 거래 건수:\", y_train_smote.value_counts()[1])"
   ]
  },
  {
   "cell_type": "markdown",
   "id": "63bd35b6",
   "metadata": {},
   "source": [
    "SMOTE를 적용해야 하는 이유: <br>\n",
    "SMOTE(Synthetic Minority Over-sampling Technique)는\n",
    "소수 클래스(여기서는 사기 거래)의 데이터를 인공적으로 생성하여\n",
    "클래스 불균형 문제를 해결하는 기법임.<br>\n",
    "데이터가 불균형하면, 모델이 다수 클래스(정상 거래)에 치우쳐\n",
    "소수 클래스(사기 거래)를 잘 예측하지 못하는 문제가 발생함.<br>\n",
    "SMOTE를 적용하면 소수 클래스의 표본 수가 늘어나\n",
    "모델이 소수 클래스도 잘 학습할 수 있게 도와줌."
   ]
  },
  {
   "cell_type": "markdown",
   "id": "902c4358",
   "metadata": {},
   "source": [
    "<h4>6. 모델 학습"
   ]
  },
  {
   "cell_type": "code",
   "execution_count": 15,
   "id": "bc873ac9",
   "metadata": {},
   "outputs": [
    {
     "name": "stdout",
     "output_type": "stream",
     "text": [
      "분류 리포트 (classification_report):\n",
      "              precision    recall  f1-score   support\n",
      "\n",
      "           0       1.00      0.99      0.99      2001\n",
      "           1       0.81      0.93      0.87        98\n",
      "\n",
      "    accuracy                           0.99      2099\n",
      "   macro avg       0.90      0.96      0.93      2099\n",
      "weighted avg       0.99      0.99      0.99      2099\n",
      "\n",
      "PR-AUC (average_precision_score): 0.9528\n"
     ]
    },
    {
     "name": "stderr",
     "output_type": "stream",
     "text": [
      "/Users/jeong-jinwook/ybigta/session3/venv/lib/python3.11/site-packages/sklearn/linear_model/_logistic.py:465: ConvergenceWarning: lbfgs failed to converge (status=1):\n",
      "STOP: TOTAL NO. OF ITERATIONS REACHED LIMIT.\n",
      "\n",
      "Increase the number of iterations (max_iter) or scale the data as shown in:\n",
      "    https://scikit-learn.org/stable/modules/preprocessing.html\n",
      "Please also refer to the documentation for alternative solver options:\n",
      "    https://scikit-learn.org/stable/modules/linear_model.html#logistic-regression\n",
      "  n_iter_i = _check_optimize_result(\n"
     ]
    }
   ],
   "source": [
    "from sklearn.linear_model import LogisticRegression\n",
    "from sklearn.metrics import classification_report, average_precision_score\n",
    "\n",
    "# 1. 모델 생성 및 학습\n",
    "model = LogisticRegression(max_iter=1000, random_state=42)\n",
    "model.fit(X_train_smote, y_train_smote)\n",
    "\n",
    "# 2. 테스트셋에서 예측값과 예측 확률 구하기\n",
    "y_pred = model.predict(X_test)\n",
    "y_proba = model.predict_proba(X_test)[:, 1]  # 1(사기) 클래스의 확률\n",
    "\n",
    "# 3. classification_report로 평가\n",
    "print(\"분류 리포트 (classification_report):\")\n",
    "print(classification_report(y_test, y_pred))\n",
    "\n",
    "# 4. PR-AUC (average_precision_score)\n",
    "pr_auc = average_precision_score(y_test, y_proba)\n",
    "print(f\"PR-AUC (average_precision_score): {pr_auc:.4f}\")"
   ]
  },
  {
   "cell_type": "markdown",
   "id": "5851eb3b",
   "metadata": {},
   "source": [
    "<h4>7. 최종 성능 평가"
   ]
  },
  {
   "cell_type": "markdown",
   "id": "123c9741",
   "metadata": {},
   "source": [
    "recall, F1, PR-AUC등의 지표에서 모두 기준을 달성했다고 봐도 될것같다."
   ]
  }
 ],
 "metadata": {
  "kernelspec": {
   "display_name": "venv",
   "language": "python",
   "name": "python3"
  },
  "language_info": {
   "codemirror_mode": {
    "name": "ipython",
    "version": 3
   },
   "file_extension": ".py",
   "mimetype": "text/x-python",
   "name": "python",
   "nbconvert_exporter": "python",
   "pygments_lexer": "ipython3",
   "version": "3.11.0"
  }
 },
 "nbformat": 4,
 "nbformat_minor": 5
}
